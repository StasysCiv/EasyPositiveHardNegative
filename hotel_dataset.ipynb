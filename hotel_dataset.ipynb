{
 "cells": [
  {
   "cell_type": "code",
   "execution_count": 1,
   "metadata": {},
   "outputs": [],
   "source": [
    "from glob import glob\n",
    "import os,torch"
   ]
  },
  {
   "cell_type": "code",
   "execution_count": 2,
   "metadata": {},
   "outputs": [],
   "source": [
    "###### HOTEL resnet18 256 by 256 ###### \n",
    "Data='HOTEL'\n",
    "src='/xxxx/datasets/Hotels-50K/images/'\n",
    "\n",
    "data_dict = {}\n",
    "data_dict['tra'] = {}\n",
    "data_dict['test'] = {}\n",
    "for p in ['train','test/unoccluded']:\n",
    "    for d in glob(os.path.join(src,p,'*','*')):\n",
    "        if 'test' in p:\n",
    "            dict_key = 'test'\n",
    "        else:\n",
    "            dict_key = 'tra'\n",
    "        data_dict[dict_key][os.path.basename(d)] = glob(os.path.join(src,'*',p,'*',d,'*','*.jpg'))\n",
    "\n",
    "torch.save(data_dict,'data_dict_emb.pth')"
   ]
  }
 ],
 "metadata": {
  "kernelspec": {
   "display_name": "Python 3",
   "language": "python",
   "name": "python3"
  },
  "language_info": {
   "codemirror_mode": {
    "name": "ipython",
    "version": 3
   },
   "file_extension": ".py",
   "mimetype": "text/x-python",
   "name": "python",
   "nbconvert_exporter": "python",
   "pygments_lexer": "ipython3",
   "version": "3.7.3"
  }
 },
 "nbformat": 4,
 "nbformat_minor": 2
}
