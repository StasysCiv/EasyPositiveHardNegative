{
 "cells": [
  {
   "cell_type": "code",
   "execution_count": 1,
   "metadata": {},
   "outputs": [],
   "source": [
    "import torch,os,csv\n",
    "import sys\n",
    "sys.path.append('xxx/Hotels-50K/evaluate/')\n",
    "from evaluate.retrieval import main\n",
    "\n",
    "from _code.Reader import ImageReader\n",
    "from _code.Utils import eva_transforms\n",
    "from _code.color_lib import RGBmean, RGBstdv\n",
    "\n",
    "\n",
    "def Acc(epoch_idx,case):\n",
    "    src = '_result/HOTEL_R50/'+case\n",
    "    print(src)\n",
    "    acc = list()\n",
    "    for ep in epoch_idx:\n",
    "        print('epoch:'+str(ep))\n",
    "        data_dict = torch.load('data_dict_emb.pth')\n",
    "        \n",
    "        testdset = ImageReader(data_dict['test'], eva_transforms(256, RGBmean['HOTEL'], RGBstdv['HOTEL']))\n",
    "        tradset = ImageReader(data_dict['tra'], eva_transforms(256, RGBmean['HOTEL'], RGBstdv['HOTEL']))\n",
    "\n",
    "        query_idx = torch.load(src+'{}pre100.pth'.format(ep))\n",
    "\n",
    "        test_id = [os.path.basename(testdset.imgs[i][0])[:-4] for i in range(len(testdset))]\n",
    "        result_id = [[os.path.basename(tradset.imgs[query_idx[i,j].item()][0])[:-4] for j in range(100)] for i in range(len(valdset))]\n",
    "\n",
    "        outfile = os.path.join('xxx/Hotels-50K/nnloss_results','hotel_results_'+str(ep)+'.csv')\n",
    "        with open(outfile,'w') as csv_file:\n",
    "            for idx in range(len(test_id)):\n",
    "                imId = test_id[idx]\n",
    "                result_im_ids = result_id[idx]\n",
    "                csv_line = str(imId) + ',' + ','.join([str(r) for r in result_im_ids]) +'\\n'\n",
    "                csv_file.writelines(csv_line)\n",
    "\n",
    "        acc.append(main(outfile))\n",
    "    \n",
    "    return acc\n",
    "\n",
    "epoch_idx = [i for i in range(20,205,20)]\n",
    "case = 'EPSHN_LR_1e-02_ep100/G2/'\n",
    "Acc(epoch_idx,case)"
   ]
  }
 ],
 "metadata": {
  "kernelspec": {
   "display_name": "Python 3",
   "language": "python",
   "name": "python3"
  },
  "language_info": {
   "codemirror_mode": {
    "name": "ipython",
    "version": 3
   },
   "file_extension": ".py",
   "mimetype": "text/x-python",
   "name": "python",
   "nbconvert_exporter": "python",
   "pygments_lexer": "ipython3",
   "version": "3.7.3"
  }
 },
 "nbformat": 4,
 "nbformat_minor": 2
}
